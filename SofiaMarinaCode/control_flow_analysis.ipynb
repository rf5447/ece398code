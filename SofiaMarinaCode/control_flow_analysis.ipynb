{
 "cells": [
  {
   "cell_type": "markdown",
   "metadata": {},
   "source": [
    "## Given a control flow graph for Verilog code, how can we check if timing depends on a secret/sensitive variable?"
   ]
  },
  {
   "cell_type": "markdown",
   "metadata": {},
   "source": [
    "If the code executes in constant time, our \"done\" signal should definitely not be tainted. There are some interesting additional cases to consider:\n",
    "- what if execution is not constant time, but the timing does not depend on a secret?\n",
    "- how do we handle loops in a control flow graph?"
   ]
  },
  {
   "cell_type": "markdown",
   "metadata": {},
   "source": [
    "First, I'll consider the simple case where there are no loops in the control flow graph and not worry about whether edges of the graph depend on a secret or not. We can represent our graph as an adjacency list. Here is an example for the given graph A: \n",
    "![graph a](graph_a.png)"
   ]
  },
  {
   "cell_type": "markdown",
   "metadata": {},
   "source": [
    "Note: Some code snippets were debugged/organized with assistance from chatGPT"
   ]
  },
  {
   "cell_type": "code",
   "execution_count": 8,
   "metadata": {},
   "outputs": [],
   "source": [
    "graph_a = {\n",
    "    'START': ['s1', 's2'],\n",
    "    's1' : ['s3'],\n",
    "    's2': ['s3'],\n",
    "    's3': ['s4', 's5'],\n",
    "    's4': ['s6'],\n",
    "    's5': ['s6'],\n",
    "    's6': ['END'],\n",
    "    'END': []\n",
    "}"
   ]
  },
  {
   "cell_type": "markdown",
   "metadata": {},
   "source": [
    "There are two potential ways we can go about determining if execution is constant time. The first is by checking for nodes that dominate the END node (these are nodes that all paths go through during execution). Once we have identified \"graph dominators\", we can check if the path lengths from the previous dominator to the next dominator (the start and end nodes are trivially dominator nodes) are the same. Alternatively, we can just check if all the path lengths from the start to end node are the same.\n",
    "\n",
    "Let's start by looking at the simpler case where we just check path lengths from the start to end node:"
   ]
  },
  {
   "cell_type": "code",
   "execution_count": 9,
   "metadata": {},
   "outputs": [],
   "source": [
    "from collections import deque\n",
    "\n",
    "def check_equal_path_lengths(graph, start, end):\n",
    "    # queue of (node, length)\n",
    "    queue = deque([(start, 0)])\n",
    "    path_lengths = set()\n",
    "\n",
    "    while queue:\n",
    "        node, length = queue.popleft()\n",
    "\n",
    "        # if we reach the end node, record the path length\n",
    "        if node == end:\n",
    "            path_lengths.add(length)\n",
    "            continue\n",
    "\n",
    "        # add neighbors to the queue with incremented length\n",
    "        for neighbor in graph[node]:\n",
    "            queue.append((neighbor, length + 1))\n",
    "\n",
    "    # check if all path lengths are the same\n",
    "    return len(path_lengths) == 1"
   ]
  },
  {
   "cell_type": "markdown",
   "metadata": {},
   "source": [
    "To quickly test this, we can create another graph B that has paths with varying lengths:\n",
    "![graph b](graph_b.png)"
   ]
  },
  {
   "cell_type": "code",
   "execution_count": 15,
   "metadata": {},
   "outputs": [],
   "source": [
    "graph_b = {\n",
    "    'START': ['s1', 's2'],\n",
    "    's1' : ['s3'],\n",
    "    's2': ['s3'],\n",
    "    's3': ['s4', 's5'],\n",
    "    's4': ['s7'],\n",
    "    's5': ['s6'],\n",
    "    's6': ['s7'],\n",
    "    's7': ['END'],\n",
    "    'END': []\n",
    "}"
   ]
  },
  {
   "cell_type": "code",
   "execution_count": 16,
   "metadata": {},
   "outputs": [
    {
     "name": "stdout",
     "output_type": "stream",
     "text": [
      "True\n",
      "False\n"
     ]
    }
   ],
   "source": [
    "print(check_equal_path_lengths(graph_a, 'START', 'END'))\n",
    "print(check_equal_path_lengths(graph_b, 'START', 'END'))"
   ]
  },
  {
   "cell_type": "markdown",
   "metadata": {},
   "source": [
    "These results match what we expect since the paths in graph A are all of equal lengths, so the function returns True. The same is not true in graph B, so the function returns false."
   ]
  },
  {
   "cell_type": "markdown",
   "metadata": {},
   "source": [
    "Now, let's consider the case where we only care if the execution time is affected by a variable that's designated secret. We can add additional information to our graph to indicate that an edge is dependent on a variable. One way to do this is to simply add a list of variable names to each node that indicate which variables affect the control flow \"outgoing\" from a particular node. This is a diagram that includes relevenant variables for state transitions along the edges.\n",
    "\n",
    "![graph c](graph_c.png)"
   ]
  },
  {
   "cell_type": "code",
   "execution_count": 76,
   "metadata": {},
   "outputs": [],
   "source": [
    "graph_c = {\n",
    "    'START': [['s1', 's2'], ['secret', 'other_var']],\n",
    "    's1' : [['s3'], []],\n",
    "    's2': [['s3'], []],\n",
    "    's3': [['s4', 's5'], ['secret', 'other_var']],\n",
    "    's4': [['s7'], ['other_var']],\n",
    "    's5': [['s6'], ['other_var']],\n",
    "    's6': [['s7'], []],\n",
    "    's7': [['END'], []],\n",
    "    'END': [[],[]]\n",
    "}"
   ]
  },
  {
   "cell_type": "markdown",
   "metadata": {},
   "source": [
    "Now, we need to figure out how to check if differences in path length are dependent on a secret variable or not. We can do this by finding nodes that dominate the END node, and using these dominator nodes to count how many steps are affected by the secret."
   ]
  },
  {
   "cell_type": "markdown",
   "metadata": {},
   "source": [
    "Here is a more interesting example - a graph where not all path lengths are the same, but the path lengths do not depend on a secret variable:\n",
    "\n",
    "![graph d](graph_d.png)"
   ]
  },
  {
   "cell_type": "code",
   "execution_count": 77,
   "metadata": {},
   "outputs": [],
   "source": [
    "graph_d = {\n",
    "    'START': [['s1', 's2'], ['secret', 'other_var']],\n",
    "    's1' : [['s3'], []],\n",
    "    's2': [['s3'], []],\n",
    "    's3': [['s4', 's5'], ['other_var']],\n",
    "    's4': [['s7'], ['other_var']],\n",
    "    's5': [['s6'], ['other_var']],\n",
    "    's6': [['s7'], []],\n",
    "    's7': [['END'], []],\n",
    "    'END': [[],[]]\n",
    "}"
   ]
  },
  {
   "cell_type": "markdown",
   "metadata": {},
   "source": [
    "One way to distinguish the timing dependency for these graphs is: \n",
    "- find the nodes that dominate the end node\n",
    "- check if path lengths are equal between adjacent dominator nodes\n",
    "- check if there is a dependency on a secret variable between adjacent dominator nodes\n",
    "- if there is a secret dependency and path lengths are not equal between two dominators, return False (insecure)\n",
    "- otherwise, return True (secure)"
   ]
  },
  {
   "cell_type": "code",
   "execution_count": 78,
   "metadata": {},
   "outputs": [],
   "source": [
    "from collections import defaultdict\n",
    "# compute the list of dominator nodes for the end node in order from start to end\n",
    "def find_dominators(graph, start, end):\n",
    "    # reverse the graph for dominator analysis\n",
    "    reverse_graph = defaultdict(list)\n",
    "    for node, (neighbors, _) in graph.items():\n",
    "        for neighbor in neighbors:\n",
    "            reverse_graph[neighbor].append(node)\n",
    "\n",
    "    # initialize dominator sets\n",
    "    all_nodes = set(graph.keys())\n",
    "    dom = {node: set(all_nodes) for node in all_nodes}\n",
    "    dom[start] = {start}\n",
    "\n",
    "    # iteratively refine dominator sets\n",
    "    changed = True\n",
    "    while changed:\n",
    "        changed = False\n",
    "        for node in all_nodes - {start}:\n",
    "            new_dom = set(all_nodes)\n",
    "            for pred in reverse_graph[node]:\n",
    "                new_dom &= dom[pred]\n",
    "            new_dom.add(node)\n",
    "            if new_dom != dom[node]:\n",
    "                dom[node] = new_dom\n",
    "                changed = True\n",
    "\n",
    "    # extract dominators of the end node and sort them in order\n",
    "    dominators_of_end = dom[end]\n",
    "    ordered_dominators = []\n",
    "\n",
    "    # perform BFS to order dominators from start to end\n",
    "    visited = set()\n",
    "    queue = deque([start])\n",
    "    while queue:\n",
    "        current = queue.popleft()\n",
    "        if current in dominators_of_end and current not in visited:\n",
    "            ordered_dominators.append(current)\n",
    "            visited.add(current)\n",
    "        neighbors = graph[current][0]  # Get neighbors\n",
    "        for neighbor in neighbors:\n",
    "            if neighbor not in visited:\n",
    "                queue.append(neighbor)\n",
    "\n",
    "    return ordered_dominators\n"
   ]
  },
  {
   "cell_type": "code",
   "execution_count": 71,
   "metadata": {},
   "outputs": [],
   "source": [
    "from collections import deque\n",
    "\n",
    "def check_equal_path_lengths_dependencies(graph, start, end, secret_vars):\n",
    "    # queue of (node, length)\n",
    "    queue = deque([(start, 0)]) \n",
    "    path_lengths = set()\n",
    "    secret_dep = False\n",
    "\n",
    "    while queue:\n",
    "        node, length = queue.popleft()\n",
    "\n",
    "        # if we reach the end node, record the path length\n",
    "        if node == end:\n",
    "            path_lengths.add(length)\n",
    "            continue\n",
    "\n",
    "        # access the neighbors\n",
    "        neighbors = graph[node][0]\n",
    "        for neighbor in neighbors:\n",
    "            queue.append((neighbor, length + 1))\n",
    "\n",
    "        # check for dependency on secret variable\n",
    "        dependencies = graph[node][1]\n",
    "        for dependency in dependencies:\n",
    "            if dependency in secret_vars:\n",
    "                secret_dep = True\n",
    "\n",
    "    # check if all path lengths are the same\n",
    "    return (len(path_lengths) == 1), secret_dep\n"
   ]
  },
  {
   "cell_type": "code",
   "execution_count": 79,
   "metadata": {},
   "outputs": [],
   "source": [
    "def check_secret_dependency(graph, start, end, secret_vars):\n",
    "    # find dominator nodes\n",
    "    end_dominators = find_dominators(graph, start, end)\n",
    "\n",
    "    # check if path lengths between dominators are equal \n",
    "    # if there are unequal paths between two dominators AND \n",
    "    # there is a secret dependency between those dominators, return false\n",
    "    for i in range(len(end_dominators) - 1):\n",
    "        equal_lengths, secret_dep = check_equal_path_lengths_dependencies(graph, end_dominators[i], end_dominators[i + 1], secret_vars)\n",
    "\n",
    "        if not equal_lengths and secret_dep:\n",
    "            return False\n",
    "    return True\n"
   ]
  },
  {
   "cell_type": "code",
   "execution_count": 80,
   "metadata": {},
   "outputs": [
    {
     "name": "stdout",
     "output_type": "stream",
     "text": [
      "False\n",
      "True\n"
     ]
    }
   ],
   "source": [
    "secret_vars = ['secret']\n",
    "print(check_secret_dependency(graph_c, 'START', 'END', secret_vars))\n",
    "print(check_secret_dependency(graph_d, 'START', 'END', secret_vars))"
   ]
  },
  {
   "cell_type": "markdown",
   "metadata": {},
   "source": [
    "Insecure multiplier example:\n",
    "![multiplier](mini_multiplier.png)"
   ]
  },
  {
   "cell_type": "code",
   "execution_count": 89,
   "metadata": {},
   "outputs": [],
   "source": [
    "mini_multiplier = {\n",
    "    'START': [['add1', 'shift1'], ['multiplier']],\n",
    "    'add1' : [['shift1'], []],\n",
    "    'shift1': [['add2', 'END'], ['multiplier']],\n",
    "    'add2': [['END'], []],\n",
    "    'END': [[],[]]\n",
    "}"
   ]
  },
  {
   "cell_type": "code",
   "execution_count": 91,
   "metadata": {},
   "outputs": [
    {
     "name": "stdout",
     "output_type": "stream",
     "text": [
      "['START', 'shift1', 'END']\n",
      "False\n"
     ]
    }
   ],
   "source": [
    "secret_vars = ['multiplier']\n",
    "print(find_dominators(mini_multiplier, 'START', 'END'))\n",
    "print(check_secret_dependency(mini_multiplier, 'START', 'END', secret_vars))"
   ]
  },
  {
   "cell_type": "markdown",
   "metadata": {},
   "source": [
    "The multiplier is insecure as expected"
   ]
  },
  {
   "cell_type": "markdown",
   "metadata": {},
   "source": []
  }
 ],
 "metadata": {
  "kernelspec": {
   "display_name": "Python 3",
   "language": "python",
   "name": "python3"
  },
  "language_info": {
   "codemirror_mode": {
    "name": "ipython",
    "version": 3
   },
   "file_extension": ".py",
   "mimetype": "text/x-python",
   "name": "python",
   "nbconvert_exporter": "python",
   "pygments_lexer": "ipython3",
   "version": "3.11.7"
  }
 },
 "nbformat": 4,
 "nbformat_minor": 2
}
